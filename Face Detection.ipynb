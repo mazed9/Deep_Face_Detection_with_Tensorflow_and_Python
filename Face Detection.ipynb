{
 "cells": [
  {
   "cell_type": "markdown",
   "id": "2bec78b4-9a50-4a65-b44d-186ba51b9959",
   "metadata": {
    "tags": []
   },
   "source": [
    "# 1. Setup and Get Data"
   ]
  },
  {
   "cell_type": "markdown",
   "id": "5a393383-4c68-46ae-8003-cd2df52cd645",
   "metadata": {
    "tags": []
   },
   "source": [
    "### 1.1 Install Dependencies and Setup"
   ]
  },
  {
   "cell_type": "code",
   "execution_count": null,
   "id": "ede6586b-c144-4e9a-b352-f412b85fa986",
   "metadata": {
    "scrolled": true,
    "tags": []
   },
   "outputs": [],
   "source": [
    "!pip install labelme tensorflow opencv-python matplotlib albumentations"
   ]
  },
  {
   "cell_type": "markdown",
   "id": "305915d2-6d27-4459-9816-04d1674c44e8",
   "metadata": {},
   "source": [
    "### 1.2 Collect Images Using OpenCV"
   ]
  },
  {
   "cell_type": "code",
   "execution_count": 6,
   "id": "3e622997-5aab-4154-ad3a-e5e7c7d84e97",
   "metadata": {},
   "outputs": [],
   "source": [
    "import os\n",
    "import time\n",
    "import uuid\n",
    "import cv2"
   ]
  },
  {
   "cell_type": "code",
   "execution_count": 5,
   "id": "771cffa9-8c8e-4fbe-b507-e77dd5d338ba",
   "metadata": {
    "tags": []
   },
   "outputs": [],
   "source": [
    "image_path=os.path.join('data', 'images')\n",
    "image_number=30"
   ]
  },
  {
   "cell_type": "code",
   "execution_count": 9,
   "id": "10c0ec09-3e20-40de-9824-e5f703c799ea",
   "metadata": {
    "tags": []
   },
   "outputs": [
    {
     "name": "stdout",
     "output_type": "stream",
     "text": [
      "Collecting image 0\n",
      "Collecting image 1\n",
      "Collecting image 2\n",
      "Collecting image 3\n",
      "Collecting image 4\n",
      "Collecting image 5\n",
      "Collecting image 6\n",
      "Collecting image 7\n",
      "Collecting image 8\n",
      "Collecting image 9\n",
      "Collecting image 10\n",
      "Collecting image 11\n",
      "Collecting image 12\n",
      "Collecting image 13\n",
      "Collecting image 14\n",
      "Collecting image 15\n",
      "Collecting image 16\n",
      "Collecting image 17\n",
      "Collecting image 18\n",
      "Collecting image 19\n",
      "Collecting image 20\n",
      "Collecting image 21\n",
      "Collecting image 22\n",
      "Collecting image 23\n",
      "Collecting image 24\n",
      "Collecting image 25\n",
      "Collecting image 26\n",
      "Collecting image 27\n",
      "Collecting image 28\n",
      "Collecting image 29\n"
     ]
    }
   ],
   "source": [
    "cap=cv2.VideoCapture(0)\n",
    "for imgnum in range(image_number):\n",
    "    print(f'Collecting image {imgnum}')\n",
    "    ret, frame= cap.read()\n",
    "    imgname= os.path.join(image_path, f'{str(uuid.uuid1())}.jpg')\n",
    "    cv2.imwrite(imgname, frame)\n",
    "    cv2.imshow('frame', frame)\n",
    "    time.sleep(1)\n",
    "    \n",
    "    if cv2.waitKey(1) & 0xFF == ord('q'):\n",
    "        break\n",
    "cap.release()\n",
    "cv2.destroyAllWindows()\n",
    "    "
   ]
  },
  {
   "cell_type": "markdown",
   "id": "2e031dee-0fb3-45be-a232-f248614f7918",
   "metadata": {},
   "source": [
    "### 1.3 Annotate Images with LabelMe"
   ]
  },
  {
   "cell_type": "code",
   "execution_count": 15,
   "id": "eccbea2d-b14a-4f27-9e25-2dfb0272b355",
   "metadata": {
    "tags": []
   },
   "outputs": [],
   "source": [
    "!labelme"
   ]
  },
  {
   "cell_type": "markdown",
   "id": "60f20af6-c9c2-47e4-8d48-43802a24197a",
   "metadata": {},
   "source": [
    "# 2. Review Dataset and Build Image Loading Function"
   ]
  },
  {
   "cell_type": "markdown",
   "id": "f50db900-d4b5-47bd-a22a-978ac22ccf57",
   "metadata": {},
   "source": [
    "### 2.1 Import TF "
   ]
  },
  {
   "cell_type": "code",
   "execution_count": 5,
   "id": "b9384845-3016-4e04-b7c3-e499f57c982f",
   "metadata": {
    "tags": []
   },
   "outputs": [],
   "source": [
    "import tensorflow as tf\n",
    "import json\n",
    "import numpy as np\n",
    "import matplotlib.pyplot as plt"
   ]
  },
  {
   "cell_type": "markdown",
   "id": "a1794496-9232-4088-a931-d6bf976b9289",
   "metadata": {},
   "source": [
    "### 2.2 Load Image into TF data pipeline"
   ]
  },
  {
   "cell_type": "code",
   "execution_count": 15,
   "id": "3eae1d95-6041-479f-b51e-b0d6ef028678",
   "metadata": {
    "tags": []
   },
   "outputs": [],
   "source": [
    "images=tf.data.Dataset.list_files('data\\\\images\\\\*.jpg',shuffle=False)"
   ]
  },
  {
   "cell_type": "code",
   "execution_count": 16,
   "id": "44c229e0-99f7-450e-95da-9f4c307ead8a",
   "metadata": {
    "tags": []
   },
   "outputs": [
    {
     "data": {
      "text/plain": [
       "b'data\\\\images\\\\2e27874a-2b08-11ee-9695-709cd173284a.jpg'"
      ]
     },
     "execution_count": 16,
     "metadata": {},
     "output_type": "execute_result"
    }
   ],
   "source": [
    "images.as_numpy_iterator().next()"
   ]
  },
  {
   "cell_type": "code",
   "execution_count": 4,
   "id": "5f3b4b62-de55-40c3-bb92-25759d1984a2",
   "metadata": {
    "tags": []
   },
   "outputs": [],
   "source": [
    "def load_image(x):\n",
    "    byte_img=tf.io.read_file(x)\n",
    "    img=tf.io.decode_jpeg(byte_img)\n",
    "    return img"
   ]
  },
  {
   "cell_type": "code",
   "execution_count": 18,
   "id": "39755ae9-d202-42f3-91ff-d886d1033c1d",
   "metadata": {
    "tags": []
   },
   "outputs": [],
   "source": [
    "images=images.map(load_image)"
   ]
  },
  {
   "cell_type": "code",
   "execution_count": 19,
   "id": "38e268e4-9b1d-4827-a50e-e554fbc01651",
   "metadata": {
    "scrolled": true,
    "tags": []
   },
   "outputs": [
    {
     "data": {
      "text/plain": [
       "array([[[132, 110,  86],\n",
       "        [137, 115,  91],\n",
       "        [142, 122,  98],\n",
       "        ...,\n",
       "        [ 59,  68,  49],\n",
       "        [ 58,  69,  55],\n",
       "        [ 59,  69,  58]],\n",
       "\n",
       "       [[137, 115,  92],\n",
       "        [141, 121,  97],\n",
       "        [139, 119,  95],\n",
       "        ...,\n",
       "        [ 75,  84,  67],\n",
       "        [ 69,  80,  66],\n",
       "        [ 60,  70,  61]],\n",
       "\n",
       "       [[139, 118,  97],\n",
       "        [140, 119,  98],\n",
       "        [139, 118,  97],\n",
       "        ...,\n",
       "        [ 98, 106,  91],\n",
       "        [ 94, 104,  95],\n",
       "        [ 85,  95,  87]],\n",
       "\n",
       "       ...,\n",
       "\n",
       "       [[ 86,  79,  63],\n",
       "        [ 85,  78,  62],\n",
       "        [ 85,  77,  64],\n",
       "        ...,\n",
       "        [173, 175, 196],\n",
       "        [176, 174, 196],\n",
       "        [170, 168, 190]],\n",
       "\n",
       "       [[ 84,  74,  62],\n",
       "        [ 84,  74,  62],\n",
       "        [ 85,  77,  64],\n",
       "        ...,\n",
       "        [180, 178, 199],\n",
       "        [180, 175, 197],\n",
       "        [173, 168, 190]],\n",
       "\n",
       "       [[ 86,  76,  64],\n",
       "        [ 87,  77,  65],\n",
       "        [ 88,  80,  67],\n",
       "        ...,\n",
       "        [179, 176, 195],\n",
       "        [182, 174, 195],\n",
       "        [178, 170, 191]]], dtype=uint8)"
      ]
     },
     "execution_count": 19,
     "metadata": {},
     "output_type": "execute_result"
    }
   ],
   "source": [
    "images.as_numpy_iterator().next()"
   ]
  },
  {
   "cell_type": "code",
   "execution_count": 20,
   "id": "4c7afadf-333a-4a94-aa37-b15e17d495b9",
   "metadata": {
    "tags": []
   },
   "outputs": [
    {
     "data": {
      "text/plain": [
       "tensorflow.python.data.ops.map_op._MapDataset"
      ]
     },
     "execution_count": 20,
     "metadata": {},
     "output_type": "execute_result"
    }
   ],
   "source": [
    "type(images)"
   ]
  },
  {
   "cell_type": "markdown",
   "id": "0d67dea4-2826-44c7-b9f7-79b31de0604f",
   "metadata": {},
   "source": [
    "### 2.4 View Raw Images with Matplotlib"
   ]
  },
  {
   "cell_type": "code",
   "execution_count": 21,
   "id": "1e26bbd7-c6f9-44da-8503-5dc4120aba33",
   "metadata": {
    "tags": []
   },
   "outputs": [],
   "source": [
    "image_generator = images.batch(4).as_numpy_iterator().next()"
   ]
  },
  {
   "cell_type": "code",
   "execution_count": null,
   "id": "ae44a93f-529a-4e04-9068-7181c616f5c0",
   "metadata": {
    "tags": []
   },
   "outputs": [],
   "source": [
    "fig, ax= plt.subplots(ncols=4, figsize=(20,20))\n",
    "for idx, image in enumerate(image_generator):\n",
    "    ax[idx].imshow(image)\n",
    "plt.show()"
   ]
  },
  {
   "cell_type": "markdown",
   "id": "6a29bea2-d83f-4795-b021-eaa2f313e96d",
   "metadata": {},
   "source": [
    "# 3. Partition Unaugmented Data"
   ]
  },
  {
   "cell_type": "markdown",
   "id": "d12ce504-a9c3-486a-90b4-964df24c2309",
   "metadata": {},
   "source": [
    "### 3.1 Manually split data into train test and validation"
   ]
  },
  {
   "cell_type": "code",
   "execution_count": 24,
   "id": "2fac0e32-6cdf-4f86-aeb7-9b337c36db4e",
   "metadata": {
    "tags": []
   },
   "outputs": [
    {
     "data": {
      "text/plain": [
       "62.99999999999999"
      ]
     },
     "execution_count": 24,
     "metadata": {},
     "output_type": "execute_result"
    }
   ],
   "source": [
    "90*.7 # take 63 to train"
   ]
  },
  {
   "cell_type": "code",
   "execution_count": 26,
   "id": "48a04641-4e47-400c-a0b6-42c37154acb3",
   "metadata": {
    "tags": []
   },
   "outputs": [
    {
     "data": {
      "text/plain": [
       "13.5"
      ]
     },
     "execution_count": 26,
     "metadata": {},
     "output_type": "execute_result"
    }
   ],
   "source": [
    "90*.15 # 14 and 13 to test and val"
   ]
  },
  {
   "cell_type": "code",
   "execution_count": 29,
   "id": "76b039d6-bd13-4baf-bd71-7b63f9af5aa3",
   "metadata": {
    "tags": []
   },
   "outputs": [],
   "source": [
    "for folder in ['train','test','val']:\n",
    "    for file in os.listdir(os.path.join('data', folder, 'images')):\n",
    "        \n",
    "        filename = file.split('.')[0]+'.json'\n",
    "        existing_filepath = os.path.join('data','labels', filename)\n",
    "        if os.path.exists(existing_filepath): \n",
    "            new_filepath = os.path.join('data',folder,'labels',filename)\n",
    "            os.replace(existing_filepath, new_filepath) "
   ]
  },
  {
   "cell_type": "markdown",
   "id": "fbc981ff-c290-4610-9635-d34774580091",
   "metadata": {},
   "source": [
    "# 4. Apply Image Augmentation on Imges ans Labels using Albumentations"
   ]
  },
  {
   "cell_type": "markdown",
   "id": "170cfe64-8ad8-4dcf-857b-10728bb7216c",
   "metadata": {
    "tags": []
   },
   "source": [
    "### 4.1 Setup Albumentations Transform Pipiline"
   ]
  },
  {
   "cell_type": "code",
   "execution_count": 2,
   "id": "cd93ea18-43f3-4b4b-8206-f1d5cf984b2e",
   "metadata": {
    "tags": []
   },
   "outputs": [],
   "source": [
    "import albumentations as alb"
   ]
  },
  {
   "cell_type": "code",
   "execution_count": 3,
   "id": "47ad53be-c598-4a7e-8eab-c69b8d646e3c",
   "metadata": {
    "tags": []
   },
   "outputs": [],
   "source": [
    "augmentor= alb.Compose([alb.RandomCrop(width=450, height=450),\n",
    "                        alb.HorizontalFlip(p=0.5),\n",
    "                        alb.RandomBrightnessContrast(p=0.2),\n",
    "                        alb.RandomGamma(p=0.2),\n",
    "                        alb.RGBShift(p=0.2),\n",
    "                        alb.VerticalFlip(p=0.5)],\n",
    "                       bbox_params=alb.BboxParams(format='albumentations',\n",
    "                                                  label_fields=['class_labels']))"
   ]
  },
  {
   "cell_type": "markdown",
   "id": "445fdb6b-c4c0-4167-8da4-80887d9d2852",
   "metadata": {},
   "source": [
    "### 4.2 Load a test image and annotation with OpenCV and JSON"
   ]
  },
  {
   "cell_type": "code",
   "execution_count": 6,
   "id": "cfec6529-cff3-4468-ace5-8eea354f46e7",
   "metadata": {
    "tags": []
   },
   "outputs": [],
   "source": [
    "img= cv2.imread(os.path.join('data','train','images','2ec93229-2b08-11ee-8a95-709cd173284a.jpg'))"
   ]
  },
  {
   "cell_type": "code",
   "execution_count": 10,
   "id": "6a21f291-2f1c-495c-880b-d1e42c7ec433",
   "metadata": {
    "tags": []
   },
   "outputs": [],
   "source": [
    "with open(os.path.join('data','train','labels','2ec93229-2b08-11ee-8a95-709cd173284a.json'),'r') as f:\n",
    "    label=json.load(f)"
   ]
  },
  {
   "cell_type": "code",
   "execution_count": 16,
   "id": "1ec4dbcb-0aec-45a5-b6ae-517b17dadcf8",
   "metadata": {
    "tags": []
   },
   "outputs": [
    {
     "data": {
      "text/plain": [
       "[[270.0, 115.53191489361706], [405.1063829787234, 290.00000000000006]]"
      ]
     },
     "execution_count": 16,
     "metadata": {},
     "output_type": "execute_result"
    }
   ],
   "source": [
    "label['shapes'][0]['points']"
   ]
  },
  {
   "cell_type": "markdown",
   "id": "52f45be9-e346-47dd-8fb5-d8c0f5f7592a",
   "metadata": {},
   "source": [
    "### 4.3 Extract Coordinates and Rescale to Match Image Resolution"
   ]
  },
  {
   "cell_type": "code",
   "execution_count": 32,
   "id": "63a40026-15ad-41ef-92b4-2d997cffaf58",
   "metadata": {
    "tags": []
   },
   "outputs": [],
   "source": [
    "coords=[0,0,0,0]\n",
    "coords[0]=label['shapes'][0]['points'][0][0]\n",
    "coords[1]=label['shapes'][0]['points'][0][1]\n",
    "coords[2]=label['shapes'][0]['points'][1][0]\n",
    "coords[3]=label['shapes'][0]['points'][1][1]"
   ]
  },
  {
   "cell_type": "code",
   "execution_count": 33,
   "id": "a983975f-5c99-4798-ba1b-d312cd6cff0d",
   "metadata": {
    "tags": []
   },
   "outputs": [
    {
     "data": {
      "text/plain": [
       "[270.0, 115.53191489361706, 405.1063829787234, 290.00000000000006]"
      ]
     },
     "execution_count": 33,
     "metadata": {},
     "output_type": "execute_result"
    }
   ],
   "source": [
    "coords"
   ]
  },
  {
   "cell_type": "code",
   "execution_count": 34,
   "id": "74dd18a8-48d8-4e20-a068-f99ac2215e37",
   "metadata": {
    "tags": []
   },
   "outputs": [],
   "source": [
    "coords=list(np.divide(coords, [640, 480, 640, 480]))"
   ]
  },
  {
   "cell_type": "code",
   "execution_count": 35,
   "id": "75791a38-1a97-46d5-9808-2a804f1addf1",
   "metadata": {
    "tags": []
   },
   "outputs": [
    {
     "data": {
      "text/plain": [
       "[0.421875, 0.2406914893617022, 0.6329787234042553, 0.6041666666666667]"
      ]
     },
     "execution_count": 35,
     "metadata": {},
     "output_type": "execute_result"
    }
   ],
   "source": [
    "coords"
   ]
  },
  {
   "cell_type": "code",
   "execution_count": 36,
   "id": "1ded7c5d-7b10-4ddf-9680-9df816303900",
   "metadata": {
    "tags": []
   },
   "outputs": [
    {
     "data": {
      "text/plain": [
       "list"
      ]
     },
     "execution_count": 36,
     "metadata": {},
     "output_type": "execute_result"
    }
   ],
   "source": [
    "type(coords)"
   ]
  },
  {
   "cell_type": "markdown",
   "id": "026de11b-be62-45da-94c7-7db99591b608",
   "metadata": {},
   "source": [
    "### 4.4 Apply Augmentations and View Results"
   ]
  },
  {
   "cell_type": "code",
   "execution_count": 37,
   "id": "34060d4a-c568-472a-8744-a6b5ff30a121",
   "metadata": {
    "tags": []
   },
   "outputs": [],
   "source": [
    "augmented= augmentor(image= img, bboxes=[coords], class_labels=['face'])"
   ]
  },
  {
   "cell_type": "code",
   "execution_count": 46,
   "id": "6b01889a-3362-4935-abc4-cb9d5e5c9d60",
   "metadata": {
    "tags": []
   },
   "outputs": [
    {
     "data": {
      "text/plain": [
       "[(0.4022222222222222,\n",
       "  0.4177777777777777,\n",
       "  0.7024586288416075,\n",
       "  0.8054846335697399)]"
      ]
     },
     "execution_count": 46,
     "metadata": {},
     "output_type": "execute_result"
    }
   ],
   "source": [
    "augmented['bboxes']"
   ]
  },
  {
   "cell_type": "code",
   "execution_count": 45,
   "id": "94bd6ab5-4a7e-416e-a29d-b96c61ede7a8",
   "metadata": {
    "tags": []
   },
   "outputs": [
    {
     "data": {
      "text/plain": [
       "(0.4022222222222222, 0.4177777777777777)"
      ]
     },
     "execution_count": 45,
     "metadata": {},
     "output_type": "execute_result"
    }
   ],
   "source": [
    "augmented['bboxes'][0][:2]"
   ]
  },
  {
   "cell_type": "code",
   "execution_count": null,
   "id": "4774f9ae-ce6b-44a3-8457-3f6b89b0c957",
   "metadata": {
    "tags": []
   },
   "outputs": [],
   "source": [
    "cv2.rectangle(augmented['image'],\n",
    "              tuple(np.multiply(augmented['bboxes'][0][:2], [450,450]).astype(int)),\n",
    "              tuple(np.multiply(augmented['bboxes'][0][2:], [450,450]).astype(int)),\n",
    "              (255,0,0),2)\n",
    "plt.imshow(cv2.cvtColor(augmented['image'], cv2.COLOR_BGR2RGB))"
   ]
  },
  {
   "cell_type": "markdown",
   "id": "8b2d0d7a-81bd-45aa-9490-daf3badddc12",
   "metadata": {},
   "source": [
    "# 5. Build and Run Augmentation Pipiline"
   ]
  },
  {
   "cell_type": "markdown",
   "id": "979ea0de-6dc6-4b7c-9fe4-db26bbe0b010",
   "metadata": {},
   "source": [
    "### 5.1 Run Augmentation Pipeline"
   ]
  },
  {
   "cell_type": "code",
   "execution_count": 49,
   "id": "fadabad1-2316-4ab4-851c-1aa7a2819628",
   "metadata": {
    "tags": []
   },
   "outputs": [],
   "source": [
    "for partition in ['train','test','val']: \n",
    "    for image in os.listdir(os.path.join('data', partition, 'images')):\n",
    "        img = cv2.imread(os.path.join('data', partition, 'images', image))\n",
    "\n",
    "        coords = [0,0,0.00001,0.00001]\n",
    "        label_path = os.path.join('data', partition, 'labels', f'{image.split(\".\")[0]}.json')\n",
    "        if os.path.exists(label_path):\n",
    "            with open(label_path, 'r') as f:\n",
    "                label = json.load(f)\n",
    "\n",
    "            coords[0] = label['shapes'][0]['points'][0][0]\n",
    "            coords[1] = label['shapes'][0]['points'][0][1]\n",
    "            coords[2] = label['shapes'][0]['points'][1][0]\n",
    "            coords[3] = label['shapes'][0]['points'][1][1]\n",
    "            coords = list(np.divide(coords, [640,480,640,480]))\n",
    "\n",
    "        try: \n",
    "            for x in range(60):\n",
    "                augmented = augmentor(image=img, bboxes=[coords], class_labels=['face'])\n",
    "                cv2.imwrite(os.path.join('aug_data', partition, 'images', f'{image.split(\".\")[0]}.{x}.jpg'), augmented['image'])\n",
    "\n",
    "                annotation = {}\n",
    "                annotation['image'] = image\n",
    "\n",
    "                if os.path.exists(label_path):\n",
    "                    if len(augmented['bboxes']) == 0: \n",
    "                        annotation['bbox'] = [0,0,0,0]\n",
    "                        annotation['class'] = 0 \n",
    "                    else: \n",
    "                        annotation['bbox'] = augmented['bboxes'][0]\n",
    "                        annotation['class'] = 1\n",
    "                else: \n",
    "                    annotation['bbox'] = [0,0,0,0]\n",
    "                    annotation['class'] = 0 \n",
    "\n",
    "\n",
    "                with open(os.path.join('aug_data', partition, 'labels', f'{image.split(\".\")[0]}.{x}.json'), 'w') as f:\n",
    "                    json.dump(annotation, f)\n",
    "\n",
    "        except Exception as e:\n",
    "            print(e)"
   ]
  },
  {
   "cell_type": "markdown",
   "id": "e1157904-0362-4b52-bc56-abc4838f9457",
   "metadata": {},
   "source": [
    "### 5.2 Load Augmented Images to Tensorflow Dataset"
   ]
  },
  {
   "cell_type": "code",
   "execution_count": 5,
   "id": "4d02ae65-b851-46ad-ba77-42f931dcc72e",
   "metadata": {
    "tags": []
   },
   "outputs": [],
   "source": [
    "train_images = tf.data.Dataset.list_files('aug_data\\\\train\\\\images\\\\*.jpg', shuffle=False)\n",
    "train_images = train_images.map(load_image)\n",
    "train_images = train_images.map(lambda x: tf.image.resize(x, (120,120)))\n",
    "train_images = train_images.map(lambda x: x/255)"
   ]
  },
  {
   "cell_type": "code",
   "execution_count": 6,
   "id": "44f767c0-446b-4283-bfa3-b9e00416126d",
   "metadata": {
    "tags": []
   },
   "outputs": [],
   "source": [
    "test_images = tf.data.Dataset.list_files('aug_data\\\\test\\\\images\\\\*.jpg', shuffle=False)\n",
    "test_images = test_images.map(load_image)\n",
    "test_images = test_images.map(lambda x: tf.image.resize(x, (120,120)))\n",
    "test_images = test_images.map(lambda x: x/255)"
   ]
  },
  {
   "cell_type": "code",
   "execution_count": 7,
   "id": "14255828-fd54-4e28-869e-cb8c89aa5c68",
   "metadata": {
    "tags": []
   },
   "outputs": [],
   "source": [
    "val_images = tf.data.Dataset.list_files('aug_data\\\\val\\\\images\\\\*.jpg', shuffle=False)\n",
    "val_images = val_images.map(load_image)\n",
    "val_images = val_images.map(lambda x: tf.image.resize(x, (120,120)))\n",
    "val_images = val_images.map(lambda x: x/255)"
   ]
  },
  {
   "cell_type": "code",
   "execution_count": 55,
   "id": "91fe3a85-2a4e-41f4-8168-12e0a83397ac",
   "metadata": {
    "scrolled": true,
    "tags": []
   },
   "outputs": [
    {
     "data": {
      "text/plain": [
       "array([[[0.44074756, 0.40643382, 0.36476716],\n",
       "        [0.43382353, 0.39460784, 0.35557598],\n",
       "        [0.41121325, 0.37573528, 0.34044117],\n",
       "        ...,\n",
       "        [0.6254902 , 0.6478554 , 0.71501225],\n",
       "        [0.6357843 , 0.6617647 , 0.7245098 ],\n",
       "        [0.5871936 , 0.6161765 , 0.6862745 ]],\n",
       "\n",
       "       [[0.4362745 , 0.3851103 , 0.34981617],\n",
       "        [0.4259804 , 0.37414217, 0.34019607],\n",
       "        [0.3923407 , 0.3516544 , 0.31685048],\n",
       "        ...,\n",
       "        [0.5808211 , 0.58566177, 0.6533701 ],\n",
       "        [0.6023897 , 0.6140931 , 0.67058825],\n",
       "        [0.57273287, 0.59142154, 0.6466299 ]],\n",
       "\n",
       "       [[0.42892158, 0.3740196 , 0.33382353],\n",
       "        [0.4122549 , 0.35441175, 0.32647058],\n",
       "        [0.38204658, 0.3310662 , 0.30753675],\n",
       "        ...,\n",
       "        [0.63688725, 0.64865196, 0.72205883],\n",
       "        [0.639951  , 0.64577204, 0.71427697],\n",
       "        [0.6052696 , 0.60833335, 0.66813725]],\n",
       "\n",
       "       ...,\n",
       "\n",
       "       [[0.47107843, 0.40441176, 0.33382353],\n",
       "        [0.453799  , 0.38713235, 0.31654412],\n",
       "        [0.47487745, 0.40821078, 0.33762255],\n",
       "        ...,\n",
       "        [0.02512255, 0.14123775, 0.23670343],\n",
       "        [0.08939951, 0.16525735, 0.2810049 ],\n",
       "        [0.12310049, 0.17450981, 0.31507352]],\n",
       "\n",
       "       [[0.4751838 , 0.40459558, 0.31930146],\n",
       "        [0.4719363 , 0.40134802, 0.32291666],\n",
       "        [0.47346812, 0.4033701 , 0.3249387 ],\n",
       "        ...,\n",
       "        [0.28878677, 0.375     , 0.4206495 ],\n",
       "        [0.221875  , 0.25716913, 0.30876225],\n",
       "        [0.15300246, 0.1846201 , 0.29215688]],\n",
       "\n",
       "       [[0.475     , 0.40931374, 0.3156863 ],\n",
       "        [0.47493872, 0.4004902 , 0.3115809 ],\n",
       "        [0.45827207, 0.39258578, 0.30680147],\n",
       "        ...,\n",
       "        [0.47359067, 0.5163603 , 0.49730393],\n",
       "        [0.44797793, 0.46629903, 0.47463235],\n",
       "        [0.14332108, 0.1898897 , 0.28241423]]], dtype=float32)"
      ]
     },
     "execution_count": 55,
     "metadata": {},
     "output_type": "execute_result"
    }
   ],
   "source": [
    "train_images.as_numpy_iterator().next()"
   ]
  },
  {
   "cell_type": "markdown",
   "id": "51eb86c2-ee27-4bdc-9d71-8b8a00bf4f13",
   "metadata": {},
   "source": [
    "# 6. Prepare Labels"
   ]
  },
  {
   "cell_type": "markdown",
   "id": "e9c2f5a3-314a-4b19-b2fc-dee8365e5ecb",
   "metadata": {
    "tags": []
   },
   "source": [
    "### 6.1 Build Label Loading Function"
   ]
  },
  {
   "cell_type": "code",
   "execution_count": 8,
   "id": "6a9d91b7-1e35-407c-92ec-ff5fa9dd37c8",
   "metadata": {},
   "outputs": [],
   "source": [
    "def load_labels(label_path):\n",
    "    with open(label_path.numpy(), 'r', encoding='utf-8') as f:\n",
    "              label=json.load(f)\n",
    "    return [label['class'], label['bbox']]"
   ]
  },
  {
   "cell_type": "markdown",
   "id": "82264fbe-7aed-4fcd-b6e2-e3d87ba9d105",
   "metadata": {},
   "source": [
    "### 6.2 Load labels to tensorflow Dataset"
   ]
  },
  {
   "cell_type": "code",
   "execution_count": 9,
   "id": "4b3e8736-3634-433d-8188-2f7609f76777",
   "metadata": {
    "tags": []
   },
   "outputs": [],
   "source": [
    "train_labels= tf.data.Dataset.list_files('aug_data\\\\train\\\\labels\\\\*.json', shuffle=False)\n",
    "train_labels= train_labels.map(lambda x: tf.py_function(load_labels, [x], [tf.uint8, tf.float16]))"
   ]
  },
  {
   "cell_type": "code",
   "execution_count": 10,
   "id": "c6349c8c-ada0-498a-8925-a6efedd6f597",
   "metadata": {
    "tags": []
   },
   "outputs": [],
   "source": [
    "test_labels= tf.data.Dataset.list_files('aug_data\\\\test\\\\labels\\\\*.json', shuffle=False)\n",
    "test_labels= test_labels.map(lambda x: tf.py_function(load_labels, [x], [tf.uint8, tf.float16]))"
   ]
  },
  {
   "cell_type": "code",
   "execution_count": 11,
   "id": "c9b814de-458d-4cd2-8cbf-25861db104a2",
   "metadata": {
    "tags": []
   },
   "outputs": [],
   "source": [
    "val_labels=tf.data.Dataset.list_files('aug_data\\\\val\\\\labels\\\\*.json', shuffle=False)\n",
    "val_labels= val_labels.map(lambda x: tf.py_function(load_labels, [x], [tf.uint8,tf.float16]))"
   ]
  },
  {
   "cell_type": "markdown",
   "id": "2f8126f8-4e38-4ba0-b18e-c87f66b2e66e",
   "metadata": {},
   "source": [
    "# 7. Combine Label and Image Samples"
   ]
  },
  {
   "cell_type": "markdown",
   "id": "04a082a9-dee6-486a-8184-c5e52fa23652",
   "metadata": {},
   "source": [
    "### 7.1 Check Partition lengths"
   ]
  },
  {
   "cell_type": "code",
   "execution_count": 12,
   "id": "9018b88d-28ae-4ab0-aa0c-21d123e695b4",
   "metadata": {
    "tags": []
   },
   "outputs": [
    {
     "data": {
      "text/plain": [
       "(3780, 3780, 840, 840, 780, 780)"
      ]
     },
     "execution_count": 12,
     "metadata": {},
     "output_type": "execute_result"
    }
   ],
   "source": [
    "len(train_images), len(train_labels), len(test_images), len(test_labels), len(val_images), len(val_labels)"
   ]
  },
  {
   "cell_type": "markdown",
   "id": "bb15574c-6f55-4baf-8912-6384e4ed651f",
   "metadata": {},
   "source": [
    "### 7.2 Create Final Dataset"
   ]
  },
  {
   "cell_type": "code",
   "execution_count": 12,
   "id": "ec2bbef8-19ea-4d45-9c85-335f6e4e80a4",
   "metadata": {
    "tags": []
   },
   "outputs": [],
   "source": [
    "train= tf.data.Dataset.zip((train_images, train_labels))\n",
    "train= train.shuffle(5000)\n",
    "train= train.batch(8)\n",
    "train= train.prefetch(4)"
   ]
  },
  {
   "cell_type": "code",
   "execution_count": 13,
   "id": "9f260e59-9dad-4757-8faa-3de0497c8512",
   "metadata": {
    "tags": []
   },
   "outputs": [],
   "source": [
    "test= tf.data.Dataset.zip((test_images, test_labels))\n",
    "test= test.shuffle(1300)\n",
    "test= test.batch(8)\n",
    "test= test.prefetch(4)"
   ]
  },
  {
   "cell_type": "code",
   "execution_count": 14,
   "id": "0a59639f-26cd-49bd-b0a0-e5541acc16a2",
   "metadata": {
    "tags": []
   },
   "outputs": [],
   "source": [
    "val= tf.data.Dataset.zip((val_images,val_labels))\n",
    "val=val.shuffle(1000)\n",
    "val= val.batch(8)\n",
    "val= val.prefetch(4)"
   ]
  },
  {
   "cell_type": "code",
   "execution_count": 16,
   "id": "b92dda28-e08e-41db-af2d-948311a5b62c",
   "metadata": {
    "tags": []
   },
   "outputs": [
    {
     "data": {
      "text/plain": [
       "(array([1, 1, 1, 1, 1, 1, 1, 1], dtype=uint8),\n",
       " array([[0.5425 , 0.3894 , 0.759  , 0.6353 ],\n",
       "        [0.5957 , 0.3164 , 0.805  , 0.576  ],\n",
       "        [0.1605 , 0.1589 , 0.612  , 0.6753 ],\n",
       "        [0.2122 , 0.3513 , 0.621  , 0.8594 ],\n",
       "        [0.2299 , 0.26   , 0.573  , 0.7505 ],\n",
       "        [0.4226 , 0.2883 , 0.687  , 0.595  ],\n",
       "        [0.3118 , 0.3694 , 0.521  , 0.643  ],\n",
       "        [0.08716, 0.1768 , 0.5386 , 0.693  ]], dtype=float16))"
      ]
     },
     "execution_count": 16,
     "metadata": {},
     "output_type": "execute_result"
    }
   ],
   "source": [
    "train.as_numpy_iterator().next()[1]"
   ]
  },
  {
   "cell_type": "markdown",
   "id": "22159dff-8d78-4296-bdf0-02f1afbd7804",
   "metadata": {},
   "source": [
    "### 7.3 View Images and Annotations"
   ]
  },
  {
   "cell_type": "code",
   "execution_count": 17,
   "id": "12666644-48c3-462e-a1f8-e7265a0f7033",
   "metadata": {
    "tags": []
   },
   "outputs": [],
   "source": [
    "sample= train.as_numpy_iterator().next()"
   ]
  },
  {
   "cell_type": "code",
   "execution_count": null,
   "id": "15e43481-9959-4d37-b11b-3d60742404ed",
   "metadata": {
    "tags": []
   },
   "outputs": [],
   "source": [
    "fig,ax = plt.subplots(ncols=4, figsize=(20,20))\n",
    "for idx in range(4):\n",
    "    sample_image= sample[0][idx]\n",
    "    sample_coords= sample[1][1][idx]\n",
    "    \n",
    "    cv2.rectangle(sample_image, \n",
    "                  tuple(np.multiply(sample_coords[:2], [120,120]).astype(int)),\n",
    "                  tuple(np.multiply(sample_coords[2:], [120,120]).astype(int)), \n",
    "                        (255,0,0), 2)\n",
    "\n",
    "    ax[idx].imshow(sample_image)\n",
    "    "
   ]
  },
  {
   "cell_type": "markdown",
   "id": "a801e034-5eee-4e8b-9240-692a640a600f",
   "metadata": {},
   "source": [
    "# 8. Build Deep Learning using the Functional API"
   ]
  },
  {
   "cell_type": "markdown",
   "id": "873ca72d-11b2-4ff0-955d-a92fb05d5e56",
   "metadata": {},
   "source": [
    "### 8.1 Import Layers and Base Network"
   ]
  },
  {
   "cell_type": "code",
   "execution_count": 4,
   "id": "24102080-d274-4410-be92-82b38a0477b2",
   "metadata": {},
   "outputs": [],
   "source": [
    "from tensorflow.keras.models import Model\n",
    "from tensorflow.keras.layers import Input, Conv2D, Dense, GlobalMaxPooling2D\n",
    "from tensorflow.keras.applications import VGG16"
   ]
  },
  {
   "cell_type": "markdown",
   "id": "39c6caa7-ecee-43ea-92e3-43b35beb2f27",
   "metadata": {},
   "source": [
    "### 8.2 Download VGG16"
   ]
  },
  {
   "cell_type": "code",
   "execution_count": 21,
   "id": "76c0af48-8d46-494c-8006-e2dd3cea483c",
   "metadata": {
    "tags": []
   },
   "outputs": [
    {
     "name": "stdout",
     "output_type": "stream",
     "text": [
      "Downloading data from https://storage.googleapis.com/tensorflow/keras-applications/vgg16/vgg16_weights_tf_dim_ordering_tf_kernels_notop.h5\n",
      "58889256/58889256 [==============================] - 24s 0us/step\n"
     ]
    }
   ],
   "source": [
    "vgg=VGG16(include_top=False)"
   ]
  },
  {
   "cell_type": "markdown",
   "id": "f4d5c5d6-b0a9-4283-ad1e-be83d08ca971",
   "metadata": {},
   "source": [
    "### 8.3 Build instance of Network"
   ]
  },
  {
   "cell_type": "code",
   "execution_count": 18,
   "id": "f49ac47b-3a49-46c5-9c32-ef3e3b676a1b",
   "metadata": {
    "tags": []
   },
   "outputs": [],
   "source": [
    "input_layer= Input(shape=(120,120,3))\n",
    "\n",
    "vgg= VGG16(include_top=False)(input_layer)\n",
    "\n",
    "#classification model\n",
    "f1=GlobalMaxPooling2D()(vgg)\n",
    "class1=Dense(2048, activation='relu')(f1)\n",
    "class2=Dense(1, activation='sigmoid')(class1)\n",
    "\n",
    "#bounding box model\n",
    "f2=GlobalMaxPooling2D()(vgg)\n",
    "regress1= Dense(2048, activation='relu')(f2)\n",
    "regress2= Dense(4, activation='sigmoid')(regress1)\n",
    "\n",
    "facetracker= Model(inputs=input_layer, outputs=[class2, regress2])\n",
    "    "
   ]
  },
  {
   "cell_type": "markdown",
   "id": "94c9b444-2039-4141-a89a-325b53205437",
   "metadata": {},
   "source": [
    "### 8.4 Test out Neural Network"
   ]
  },
  {
   "cell_type": "code",
   "execution_count": 19,
   "id": "0213aced-cae9-484f-9f77-1d0f7c3e7ea7",
   "metadata": {
    "tags": []
   },
   "outputs": [
    {
     "name": "stdout",
     "output_type": "stream",
     "text": [
      "Model: \"model\"\n",
      "__________________________________________________________________________________________________\n",
      " Layer (type)                Output Shape                 Param #   Connected to                  \n",
      "==================================================================================================\n",
      " input_1 (InputLayer)        [(None, 120, 120, 3)]        0         []                            \n",
      "                                                                                                  \n",
      " vgg16 (Functional)          (None, None, None, 512)      1471468   ['input_1[0][0]']             \n",
      "                                                          8                                       \n",
      "                                                                                                  \n",
      " global_max_pooling2d (Glob  (None, 512)                  0         ['vgg16[0][0]']               \n",
      " alMaxPooling2D)                                                                                  \n",
      "                                                                                                  \n",
      " global_max_pooling2d_1 (Gl  (None, 512)                  0         ['vgg16[0][0]']               \n",
      " obalMaxPooling2D)                                                                                \n",
      "                                                                                                  \n",
      " dense (Dense)               (None, 2048)                 1050624   ['global_max_pooling2d[0][0]']\n",
      "                                                                                                  \n",
      " dense_2 (Dense)             (None, 2048)                 1050624   ['global_max_pooling2d_1[0][0]\n",
      "                                                                    ']                            \n",
      "                                                                                                  \n",
      " dense_1 (Dense)             (None, 1)                    2049      ['dense[0][0]']               \n",
      "                                                                                                  \n",
      " dense_3 (Dense)             (None, 4)                    8196      ['dense_2[0][0]']             \n",
      "                                                                                                  \n",
      "==================================================================================================\n",
      "Total params: 16826181 (64.19 MB)\n",
      "Trainable params: 16826181 (64.19 MB)\n",
      "Non-trainable params: 0 (0.00 Byte)\n",
      "__________________________________________________________________________________________________\n"
     ]
    }
   ],
   "source": [
    "facetracker.summary()"
   ]
  },
  {
   "cell_type": "code",
   "execution_count": 20,
   "id": "1c2eb240-a305-45d8-9d23-b12ec1d4d9ea",
   "metadata": {
    "tags": []
   },
   "outputs": [],
   "source": [
    "X,y = train.as_numpy_iterator().next()"
   ]
  },
  {
   "cell_type": "code",
   "execution_count": 25,
   "id": "dae6dd83-8638-45f0-a74f-15483ba4cc95",
   "metadata": {
    "tags": []
   },
   "outputs": [
    {
     "data": {
      "text/plain": [
       "(8, 120, 120, 3)"
      ]
     },
     "execution_count": 25,
     "metadata": {},
     "output_type": "execute_result"
    }
   ],
   "source": [
    "X.shape"
   ]
  },
  {
   "cell_type": "code",
   "execution_count": 29,
   "id": "aaa1c4f2-a638-45ee-bd83-73494ac644e8",
   "metadata": {
    "tags": []
   },
   "outputs": [
    {
     "name": "stdout",
     "output_type": "stream",
     "text": [
      "1/1 [==============================] - 1s 661ms/step\n"
     ]
    }
   ],
   "source": [
    "classes, coords = facetracker.predict(X)"
   ]
  },
  {
   "cell_type": "code",
   "execution_count": 27,
   "id": "df19c620-152a-4870-bdea-ab3ad26893e1",
   "metadata": {
    "tags": []
   },
   "outputs": [
    {
     "data": {
      "text/plain": [
       "(array([[0.5480733 ],\n",
       "        [0.5392124 ],\n",
       "        [0.5009143 ],\n",
       "        [0.34176552],\n",
       "        [0.43130228],\n",
       "        [0.4937439 ],\n",
       "        [0.47528896],\n",
       "        [0.4024656 ]], dtype=float32),\n",
       " array([[0.4661697 , 0.33928317, 0.28652444, 0.39145097],\n",
       "        [0.54680586, 0.4284598 , 0.3142931 , 0.35179463],\n",
       "        [0.5397019 , 0.39248347, 0.3215008 , 0.3751637 ],\n",
       "        [0.51352537, 0.3584249 , 0.2764452 , 0.34419328],\n",
       "        [0.579845  , 0.34466922, 0.23656812, 0.31823054],\n",
       "        [0.4950072 , 0.34326142, 0.2953518 , 0.32127547],\n",
       "        [0.5721763 , 0.32135835, 0.27683032, 0.36255044],\n",
       "        [0.48294595, 0.40363136, 0.30599508, 0.37711176]], dtype=float32))"
      ]
     },
     "execution_count": 27,
     "metadata": {},
     "output_type": "execute_result"
    }
   ],
   "source": [
    "classes, coords"
   ]
  },
  {
   "cell_type": "markdown",
   "id": "68887264-626d-4999-80df-e0dd46c40751",
   "metadata": {},
   "source": [
    "# 9. Define Losses and Optimizers"
   ]
  },
  {
   "cell_type": "markdown",
   "id": "f7144743-343f-44d9-b06e-47a213460966",
   "metadata": {},
   "source": [
    "### 9.1 Define Optimizer and Learning Rate"
   ]
  },
  {
   "cell_type": "code",
   "execution_count": 22,
   "id": "1bab1bc4-52b5-4a69-838b-150e0cf4c4db",
   "metadata": {
    "tags": []
   },
   "outputs": [],
   "source": [
    "batches_per_epoch = len(train)\n",
    "lr_decay = (1/0.75 -1)/batches_per_epoch"
   ]
  },
  {
   "cell_type": "code",
   "execution_count": 24,
   "id": "89556abf-9637-4cee-94ef-13e07489217b",
   "metadata": {
    "tags": []
   },
   "outputs": [],
   "source": [
    "opt = tf.keras.optimizers.legacy.Adam(learning_rate=0.0001, decay=lr_decay)"
   ]
  },
  {
   "cell_type": "markdown",
   "id": "8c6269f8-699e-44d7-a3b7-0ef53b274d24",
   "metadata": {},
   "source": [
    "### 9.2 Create Localization Loss and Classification Loss"
   ]
  },
  {
   "cell_type": "code",
   "execution_count": 25,
   "id": "4b41be10-09fc-4041-8c6f-6b5f2bbd5214",
   "metadata": {
    "tags": []
   },
   "outputs": [],
   "source": [
    "def localization_loss(y_true, yhat):\n",
    "    delta_coord = tf.reduce_sum(tf.square(y_true[:,:2] - yhat[:,:2]))\n",
    "    \n",
    "    h_true= y_true[:,3] - y_true[:,1]\n",
    "    w_true=y_true[:,2] - y_true[:,0]\n",
    "    \n",
    "    h_pred= yhat[:,3] - yhat[:,1]\n",
    "    w_pred= yhat[:,2] - yhat[:,0]\n",
    "    \n",
    "    delta_size= tf.reduce_sum(tf.square(w_true - w_pred) + tf.square(h_true - h_pred))\n",
    "    \n",
    "    return delta_coord + delta_size"
   ]
  },
  {
   "cell_type": "code",
   "execution_count": 33,
   "id": "c4d62882-e955-4e68-82ff-81c54e0e68a5",
   "metadata": {
    "tags": []
   },
   "outputs": [],
   "source": [
    "classloss= tf.keras.losses.BinaryCrossentropy()\n",
    "regressloss= localization_loss"
   ]
  },
  {
   "cell_type": "markdown",
   "id": "eed4cec5-7e43-423b-bfc0-c2a93504760b",
   "metadata": {},
   "source": [
    "### 9.3 Test out Loss Metrics"
   ]
  },
  {
   "cell_type": "code",
   "execution_count": 30,
   "id": "449209bf-988e-40be-a4e2-918d6cfb23b3",
   "metadata": {
    "tags": []
   },
   "outputs": [
    {
     "data": {
      "text/plain": [
       "<tf.Tensor: shape=(), dtype=float32, numpy=4.9558206>"
      ]
     },
     "execution_count": 30,
     "metadata": {},
     "output_type": "execute_result"
    }
   ],
   "source": [
    "localization_loss(y[1], coords)"
   ]
  },
  {
   "cell_type": "code",
   "execution_count": 31,
   "id": "814fb07a-5ba9-4913-ab8d-d029299eb7b5",
   "metadata": {
    "tags": []
   },
   "outputs": [
    {
     "data": {
      "text/plain": [
       "<tf.Tensor: shape=(), dtype=float32, numpy=0.47007495>"
      ]
     },
     "execution_count": 31,
     "metadata": {},
     "output_type": "execute_result"
    }
   ],
   "source": [
    "classloss(y[0], classes)"
   ]
  },
  {
   "cell_type": "code",
   "execution_count": 34,
   "id": "8f30d5ba-4d26-431a-b865-b3da236cb5e5",
   "metadata": {
    "tags": []
   },
   "outputs": [
    {
     "data": {
      "text/plain": [
       "<tf.Tensor: shape=(), dtype=float32, numpy=4.9558206>"
      ]
     },
     "execution_count": 34,
     "metadata": {},
     "output_type": "execute_result"
    }
   ],
   "source": [
    "regressloss(y[1], coords)"
   ]
  },
  {
   "cell_type": "markdown",
   "id": "de12dc45-d009-4077-b93e-fe13bcfb4720",
   "metadata": {},
   "source": [
    "# 10. Train Neural Network"
   ]
  },
  {
   "cell_type": "markdown",
   "id": "753279f3-7978-4b24-b3c1-b4162288ad3b",
   "metadata": {},
   "source": [
    "### 10.1 Create Custom Model Class"
   ]
  },
  {
   "cell_type": "code",
   "execution_count": 35,
   "id": "9a73b86d-d082-4f86-91cc-266de5e4f7e0",
   "metadata": {
    "tags": []
   },
   "outputs": [],
   "source": [
    "class FaceTracker(Model): \n",
    "    def __init__(self, eyetracker,  **kwargs): \n",
    "        super().__init__(**kwargs)\n",
    "        self.model = eyetracker\n",
    "\n",
    "    def compile(self, opt, classloss, localizationloss, **kwargs):\n",
    "        super().compile(**kwargs)\n",
    "        self.closs = classloss\n",
    "        self.lloss = localizationloss\n",
    "        self.opt = opt\n",
    "    \n",
    "    def train_step(self, batch, **kwargs): \n",
    "        \n",
    "        X, y = batch\n",
    "        \n",
    "        with tf.GradientTape() as tape: \n",
    "            classes, coords = self.model(X, training=True)\n",
    "            \n",
    "            batch_classloss = self.closs(y[0], classes)\n",
    "            batch_localizationloss = self.lloss(tf.cast(y[1], tf.float32), coords)\n",
    "            \n",
    "            total_loss = batch_localizationloss+0.5*batch_classloss\n",
    "            \n",
    "            grad = tape.gradient(total_loss, self.model.trainable_variables)\n",
    "        \n",
    "        opt.apply_gradients(zip(grad, self.model.trainable_variables))\n",
    "        \n",
    "        return {\"total_loss\":total_loss, \"class_loss\":batch_classloss, \"regress_loss\":batch_localizationloss}\n",
    "    \n",
    "    def test_step(self, batch, **kwargs): \n",
    "        X, y = batch\n",
    "        \n",
    "        classes, coords = self.model(X, training=False)\n",
    "        \n",
    "        batch_classloss = self.closs(y[0], classes)\n",
    "        batch_localizationloss = self.lloss(tf.cast(y[1], tf.float32), coords)\n",
    "        total_loss = batch_localizationloss+0.5*batch_classloss\n",
    "        \n",
    "        return {\"total_loss\":total_loss, \"class_loss\":batch_classloss, \"regress_loss\":batch_localizationloss}\n",
    "        \n",
    "    def call(self, X, **kwargs): \n",
    "        return self.model(X, **kwargs)"
   ]
  },
  {
   "cell_type": "code",
   "execution_count": 36,
   "id": "0ba65053-684c-485a-93c7-c2fe5ad42626",
   "metadata": {
    "tags": []
   },
   "outputs": [],
   "source": [
    "model = FaceTracker(facetracker)"
   ]
  },
  {
   "cell_type": "code",
   "execution_count": 37,
   "id": "ad38a696-be18-4fb8-839c-7d1b2b8fccfe",
   "metadata": {
    "tags": []
   },
   "outputs": [],
   "source": [
    "model.compile(opt, classloss, regressloss)"
   ]
  },
  {
   "cell_type": "markdown",
   "id": "8e156cc5-9170-4c0b-9be8-657761f1c223",
   "metadata": {},
   "source": [
    "### 10.2 Train"
   ]
  },
  {
   "cell_type": "code",
   "execution_count": 38,
   "id": "389a7c00-5b3d-4c4a-98f8-0e950149ff42",
   "metadata": {
    "tags": []
   },
   "outputs": [],
   "source": [
    "logdir='logs'"
   ]
  },
  {
   "cell_type": "code",
   "execution_count": 39,
   "id": "fa496ae6-ed7b-4262-8470-672f9c673bdf",
   "metadata": {
    "tags": []
   },
   "outputs": [],
   "source": [
    "tensorboard_callback = tf.keras.callbacks.TensorBoard(log_dir=logdir)"
   ]
  },
  {
   "cell_type": "code",
   "execution_count": 41,
   "id": "6700396c-0938-4552-8b7c-235b59cda48d",
   "metadata": {
    "tags": []
   },
   "outputs": [
    {
     "name": "stdout",
     "output_type": "stream",
     "text": [
      "Epoch 1/10\n",
      "473/473 [==============================] - 761s 2s/step - total_loss: 0.0224 - class_loss: 1.6726e-04 - regress_loss: 0.0223 - val_total_loss: 0.0157 - val_class_loss: 8.3422e-05 - val_regress_loss: 0.0157\n",
      "Epoch 2/10\n",
      "473/473 [==============================] - 768s 2s/step - total_loss: 0.0069 - class_loss: 1.5640e-05 - regress_loss: 0.0069 - val_total_loss: 0.0121 - val_class_loss: 1.0878e-05 - val_regress_loss: 0.0121\n",
      "Epoch 3/10\n",
      "473/473 [==============================] - 779s 2s/step - total_loss: 0.0043 - class_loss: 5.0220e-06 - regress_loss: 0.0043 - val_total_loss: 0.0229 - val_class_loss: 1.1772e-06 - val_regress_loss: 0.0229\n",
      "Epoch 4/10\n",
      "473/473 [==============================] - 785s 2s/step - total_loss: 0.0030 - class_loss: 2.4659e-06 - regress_loss: 0.0030 - val_total_loss: 0.0053 - val_class_loss: 2.5779e-06 - val_regress_loss: 0.0053\n",
      "Epoch 5/10\n",
      "473/473 [==============================] - 785s 2s/step - total_loss: 0.0023 - class_loss: 1.2958e-06 - regress_loss: 0.0023 - val_total_loss: 0.0046 - val_class_loss: 1.0431e-06 - val_regress_loss: 0.0046\n",
      "Epoch 6/10\n",
      "473/473 [==============================] - 788s 2s/step - total_loss: 0.0020 - class_loss: 1.0682e-06 - regress_loss: 0.0020 - val_total_loss: 0.0072 - val_class_loss: 6.2585e-07 - val_regress_loss: 0.0072\n",
      "Epoch 7/10\n",
      "473/473 [==============================] - 784s 2s/step - total_loss: 0.0017 - class_loss: 8.0012e-07 - regress_loss: 0.0017 - val_total_loss: 0.0039 - val_class_loss: 1.8627e-06 - val_regress_loss: 0.0039\n",
      "Epoch 8/10\n",
      "473/473 [==============================] - 796s 2s/step - total_loss: 0.0016 - class_loss: 5.9072e-07 - regress_loss: 0.0016 - val_total_loss: 0.0059 - val_class_loss: 1.1921e-07 - val_regress_loss: 0.0059\n",
      "Epoch 9/10\n",
      "473/473 [==============================] - 790s 2s/step - total_loss: 0.0014 - class_loss: 4.7077e-07 - regress_loss: 0.0014 - val_total_loss: 0.0040 - val_class_loss: 2.9802e-08 - val_regress_loss: 0.0040\n",
      "Epoch 10/10\n",
      "473/473 [==============================] - 799s 2s/step - total_loss: 0.0013 - class_loss: 4.0252e-07 - regress_loss: 0.0013 - val_total_loss: 0.0030 - val_class_loss: 0.0000e+00 - val_regress_loss: 0.0030\n"
     ]
    }
   ],
   "source": [
    "hist= model.fit(train, epochs=10, validation_data=val, callbacks=[tensorboard_callback])"
   ]
  },
  {
   "cell_type": "markdown",
   "id": "555f3e7b-138f-4132-9219-0635c78301d3",
   "metadata": {},
   "source": [
    "### 10.3 Plot Performance"
   ]
  },
  {
   "cell_type": "code",
   "execution_count": 42,
   "id": "bf327fd9-6471-484f-ad9f-491f7ec6392c",
   "metadata": {
    "scrolled": true,
    "tags": []
   },
   "outputs": [
    {
     "data": {
      "text/plain": [
       "{'total_loss': [0.001630502287298441,\n",
       "  0.0019102676305919886,\n",
       "  0.004191925283521414,\n",
       "  0.0007239021360874176,\n",
       "  0.0018250977154821157,\n",
       "  0.0007865295046940446,\n",
       "  0.0009451098740100861,\n",
       "  0.00039690244011580944,\n",
       "  0.00028221943648532033,\n",
       "  0.000865885813254863],\n",
       " 'class_loss': [2.561565997893922e-05,\n",
       "  5.692286322300788e-06,\n",
       "  5.453855010273401e-06,\n",
       "  3.2037585242505884e-06,\n",
       "  7.00354917171353e-07,\n",
       "  2.9802333756379085e-07,\n",
       "  2.980232594040899e-08,\n",
       "  1.0430814256778831e-07,\n",
       "  5.364422577258665e-07,\n",
       "  1.4901162970204496e-08],\n",
       " 'regress_loss': [0.0016176945064216852,\n",
       "  0.0019074215088039637,\n",
       "  0.00418919837102294,\n",
       "  0.000722300261259079,\n",
       "  0.0018247475381940603,\n",
       "  0.0007863804930821061,\n",
       "  0.0009450949728488922,\n",
       "  0.000396850286051631,\n",
       "  0.00028195121558383107,\n",
       "  0.0008658783626742661],\n",
       " 'val_total_loss': [0.015746526420116425,\n",
       "  0.012061597779393196,\n",
       "  0.022902853786945343,\n",
       "  0.005348485894501209,\n",
       "  0.004623983055353165,\n",
       "  0.0072167059406638145,\n",
       "  0.003911325708031654,\n",
       "  0.005909116938710213,\n",
       "  0.004046985879540443,\n",
       "  0.0029773451387882233],\n",
       " 'val_class_loss': [8.342175715370104e-05,\n",
       "  1.0877970453293528e-05,\n",
       "  1.177192871182342e-06,\n",
       "  2.5779122552194167e-06,\n",
       "  1.0430829888719018e-06,\n",
       "  6.258495091060468e-07,\n",
       "  1.8626503788254922e-06,\n",
       "  1.1920931797249068e-07,\n",
       "  2.980232594040899e-08,\n",
       "  0.0],\n",
       " 'val_regress_loss': [0.015704816207289696,\n",
       "  0.012056158855557442,\n",
       "  0.022902265191078186,\n",
       "  0.0053471969440579414,\n",
       "  0.00462346151471138,\n",
       "  0.007216393016278744,\n",
       "  0.003910394385457039,\n",
       "  0.005909057334065437,\n",
       "  0.00404697097837925,\n",
       "  0.0029773451387882233]}"
      ]
     },
     "execution_count": 42,
     "metadata": {},
     "output_type": "execute_result"
    }
   ],
   "source": [
    "hist.history"
   ]
  },
  {
   "cell_type": "code",
   "execution_count": 43,
   "id": "5dbc5b92-ad68-42b5-9659-d444ea2c1ed8",
   "metadata": {
    "tags": []
   },
   "outputs": [
    {
     "data": {
      "image/png": "[encoded data removed]",
      "text/plain": [
       "<Figure size 2000x500 with 3 Axes>"
      ]
     },
     "metadata": {},
     "output_type": "display_data"
    }
   ],
   "source": [
    "fig, ax = plt.subplots(ncols=3, figsize=(20,5))\n",
    "\n",
    "ax[0].plot(hist.history['total_loss'], color='teal', label='loss')\n",
    "ax[0].plot(hist.history['val_total_loss'], color='orange', label='val loss')\n",
    "ax[0].title.set_text('Loss')\n",
    "ax[0].legend()\n",
    "\n",
    "ax[1].plot(hist.history['class_loss'], color='teal', label='class loss')\n",
    "ax[1].plot(hist.history['val_class_loss'], color='orange', label='val class loss')\n",
    "ax[1].title.set_text('Classification Loss')\n",
    "ax[1].legend()\n",
    "\n",
    "ax[2].plot(hist.history['regress_loss'], color='teal', label='regress loss')\n",
    "ax[2].plot(hist.history['val_regress_loss'], color='orange', label='val regress loss')\n",
    "ax[2].title.set_text('Regression Loss')\n",
    "ax[2].legend()\n",
    "\n",
    "plt.show()"
   ]
  },
  {
   "cell_type": "markdown",
   "id": "e27b481d-2ca4-49cf-9768-185aaac15dda",
   "metadata": {},
   "source": [
    "# 11. Make Predictions"
   ]
  },
  {
   "cell_type": "markdown",
   "id": "df03147b-ba4c-4eb9-a4a5-051c2694f5d1",
   "metadata": {},
   "source": [
    "### 11.1 Make Predictions on Test Set"
   ]
  },
  {
   "cell_type": "code",
   "execution_count": 44,
   "id": "345f1953-d696-42d1-9b15-6b83a91e9e19",
   "metadata": {
    "tags": []
   },
   "outputs": [],
   "source": [
    "test_data = test.as_numpy_iterator()"
   ]
  },
  {
   "cell_type": "code",
   "execution_count": 45,
   "id": "90ff3ace-2cbf-4b54-9509-ab3cd242feb5",
   "metadata": {
    "tags": []
   },
   "outputs": [],
   "source": [
    "test_sample = test_data.next()"
   ]
  },
  {
   "cell_type": "code",
   "execution_count": 46,
   "id": "d30b11b5-b113-451c-bef6-c9de812bc5c9",
   "metadata": {
    "scrolled": true,
    "tags": []
   },
   "outputs": [
    {
     "data": {
      "text/plain": [
       "(array([[[[0.5082108 , 0.41360295, 0.44154412],\n",
       "          [0.5396446 , 0.4305147 , 0.48768383],\n",
       "          [0.47003677, 0.38210785, 0.42708334],\n",
       "          ...,\n",
       "          [0.34987745, 0.27224264, 0.18713236],\n",
       "          [0.3310662 , 0.26292893, 0.16390932],\n",
       "          [0.29577205, 0.24883579, 0.14626226]],\n",
       " \n",
       "         [[0.49289215, 0.41911766, 0.42971814],\n",
       "          [0.4190564 , 0.3621936 , 0.38903186],\n",
       "          [0.5092524 , 0.4141544 , 0.43713236],\n",
       "          ...,\n",
       "          [0.3452206 , 0.2829657 , 0.1927696 ],\n",
       "          [0.32003677, 0.26127452, 0.16960785],\n",
       "          [0.29822305, 0.25116423, 0.15643382]],\n",
       " \n",
       "         [[0.50104165, 0.41513482, 0.4471201 ],\n",
       "          [0.41072303, 0.36158088, 0.39411765],\n",
       "          [0.4038603 , 0.33045343, 0.3469363 ],\n",
       "          ...,\n",
       "          [0.31832108, 0.2747549 , 0.16580883],\n",
       "          [0.31642157, 0.27328432, 0.16348039],\n",
       "          [0.31311274, 0.26115197, 0.15704657]],\n",
       " \n",
       "         ...,\n",
       " \n",
       "         [[0.26593137, 0.30300245, 0.30036765],\n",
       "          [0.29283088, 0.3512255 , 0.33161765],\n",
       "          [0.26715687, 0.34552696, 0.33541667],\n",
       "          ...,\n",
       "          [0.5127451 , 0.4343137 , 0.32843137],\n",
       "          [0.49025735, 0.40790442, 0.30202207],\n",
       "          [0.5254902 , 0.4357843 , 0.3372549 ]],\n",
       " \n",
       "         [[0.47806373, 0.5298407 , 0.5285539 ],\n",
       "          [0.33878675, 0.37506127, 0.35496324],\n",
       "          [0.35104167, 0.40857843, 0.39724264],\n",
       "          ...,\n",
       "          [0.53045344, 0.44810048, 0.32751226],\n",
       "          [0.5054534 , 0.41623774, 0.2956495 ],\n",
       "          [0.5007353 , 0.41360295, 0.30637255]],\n",
       " \n",
       "         [[0.49797794, 0.533701  , 0.5027574 ],\n",
       "          [0.39914215, 0.41844362, 0.40042892],\n",
       "          [0.313174  , 0.3521446 , 0.35759804],\n",
       "          ...,\n",
       "          [0.5099265 , 0.43308824, 0.3038603 ],\n",
       "          [0.5126838 , 0.42769608, 0.30404413],\n",
       "          [0.50147057, 0.41470587, 0.30735293]]],\n",
       " \n",
       " \n",
       "        [[[0.49993873, 0.5543505 , 0.6151348 ],\n",
       "          [0.11770833, 0.20594363, 0.29791668],\n",
       "          [0.08566176, 0.16654412, 0.21262255],\n",
       "          ...,\n",
       "          [0.4285539 , 0.40128675, 0.3262255 ],\n",
       "          [0.38088235, 0.35490197, 0.27598038],\n",
       "          [0.4074755 , 0.36875   , 0.29485294]],\n",
       " \n",
       "         [[0.16047794, 0.24509804, 0.31580883],\n",
       "          [0.1038603 , 0.20631127, 0.30153185],\n",
       "          [0.0432598 , 0.1452206 , 0.19816177],\n",
       "          ...,\n",
       "          [0.4       , 0.3764706 , 0.28333333],\n",
       "          [0.37745097, 0.35306373, 0.259375  ],\n",
       "          [0.42022058, 0.37904412, 0.28639707]],\n",
       " \n",
       "         [[0.3418505 , 0.45147058, 0.4659314 ],\n",
       "          [0.21231617, 0.3074142 , 0.3490809 ],\n",
       "          [0.03198529, 0.12518382, 0.16678922],\n",
       "          ...,\n",
       "          [0.4038603 , 0.37640932, 0.30189952],\n",
       "          [0.39859068, 0.3677696 , 0.28621325],\n",
       "          [0.41856617, 0.37297794, 0.28927696]],\n",
       " \n",
       "         ...,\n",
       " \n",
       "         [[0.6460784 , 0.5637255 , 0.4862745 ],\n",
       "          [0.639277  , 0.55692405, 0.47457108],\n",
       "          [0.6396446 , 0.56121325, 0.46709558],\n",
       "          ...,\n",
       "          [0.38241422, 0.3235907 , 0.24123774],\n",
       "          [0.37984067, 0.32205883, 0.24650735],\n",
       "          [0.3767157 , 0.32052696, 0.22242647]],\n",
       " \n",
       "         [[0.6336397 , 0.55471814, 0.4620711 ],\n",
       "          [0.6481005 , 0.56574756, 0.4833946 ],\n",
       "          [0.63572305, 0.5533701 , 0.47101715],\n",
       "          ...,\n",
       "          [0.34558824, 0.28333333, 0.18627451],\n",
       "          [0.3745098 , 0.31911764, 0.21862745],\n",
       "          [0.39050245, 0.33302698, 0.22843137]],\n",
       " \n",
       "         [[0.6362745 , 0.5624387 , 0.46433824],\n",
       "          [0.6357843 , 0.5552083 , 0.4675245 ],\n",
       "          [0.6240196 , 0.54068625, 0.44656864],\n",
       "          ...,\n",
       "          [0.33590686, 0.2682598 , 0.17677696],\n",
       "          [0.359375  , 0.30055147, 0.18682598],\n",
       "          [0.37107843, 0.31378677, 0.20925245]]],\n",
       " \n",
       " \n",
       "        [[[0.05042892, 0.09601716, 0.20091912],\n",
       "          [0.05637255, 0.10490196, 0.1939951 ],\n",
       "          [0.3707108 , 0.42971814, 0.5079657 ],\n",
       "          ...,\n",
       "          [0.46164215, 0.40281862, 0.38321078],\n",
       "          [0.5088848 , 0.44319853, 0.41672793],\n",
       "          [0.5117647 , 0.4372549 , 0.4167892 ]],\n",
       " \n",
       "         [[0.08125   , 0.12830882, 0.22536765],\n",
       "          [0.09197304, 0.14056373, 0.22518383],\n",
       "          [0.328125  , 0.3874387 , 0.46047795],\n",
       "          ...,\n",
       "          [0.49166667, 0.43382353, 0.4137255 ],\n",
       "          [0.51715684, 0.45147058, 0.425     ],\n",
       "          [0.5362132 , 0.4646446 , 0.4396446 ]],\n",
       " \n",
       "         [[0.08247549, 0.13982843, 0.23382352],\n",
       "          [0.0911152 , 0.13866422, 0.22248775],\n",
       "          [0.3957108 , 0.4550245 , 0.5280637 ],\n",
       "          ...,\n",
       "          [0.50643384, 0.45545343, 0.43192402],\n",
       "          [0.5362132 , 0.47052696, 0.44405636],\n",
       "          [0.54295343, 0.4713848 , 0.44638482]],\n",
       " \n",
       "         ...,\n",
       " \n",
       "         [[0.        , 0.04656863, 0.13841912],\n",
       "          [0.00741422, 0.07310049, 0.17524509],\n",
       "          [0.00343137, 0.07218137, 0.16813725],\n",
       "          ...,\n",
       "          [0.33854166, 0.33903188, 0.33314952],\n",
       "          [0.33284312, 0.33235294, 0.3348039 ],\n",
       "          [0.33045343, 0.3221201 , 0.33682597]],\n",
       " \n",
       "         [[0.        , 0.06568628, 0.14019608],\n",
       "          [0.0432598 , 0.10845588, 0.21188726],\n",
       "          [0.02990196, 0.09558824, 0.20588236],\n",
       "          ...,\n",
       "          [0.4495098 , 0.46605393, 0.50778186],\n",
       "          [0.43229166, 0.4439951 , 0.5004902 ],\n",
       "          [0.44607842, 0.4503064 , 0.51666665]],\n",
       " \n",
       "         [[0.10759804, 0.21838236, 0.2855392 ],\n",
       "          [0.18756127, 0.28382352, 0.3740196 ],\n",
       "          [0.04368873, 0.14074755, 0.24123774],\n",
       "          ...,\n",
       "          [0.7764706 , 0.81078434, 0.81715685],\n",
       "          [0.78039217, 0.8147059 , 0.82254905],\n",
       "          [0.78278184, 0.79901963, 0.8170343 ]]],\n",
       " \n",
       " \n",
       "        ...,\n",
       " \n",
       " \n",
       "        [[[0.12800245, 0.22064951, 0.33486518],\n",
       "          [0.14963235, 0.25943628, 0.37708333],\n",
       "          [0.2602941 , 0.33682597, 0.43400735],\n",
       "          ...,\n",
       "          [0.85245097, 0.85637254, 0.8279412 ],\n",
       "          [0.84411764, 0.85588235, 0.82781863],\n",
       "          [0.8446691 , 0.8509804 , 0.8286152 ]],\n",
       " \n",
       "         [[0.11458334, 0.1995098 , 0.32009804],\n",
       "          [0.09816176, 0.18033089, 0.28376225],\n",
       "          [0.21985294, 0.2817402 , 0.34534314],\n",
       "          ...,\n",
       "          [0.8413603 , 0.853125  , 0.81783086],\n",
       "          [0.83639705, 0.8492034 , 0.813848  ],\n",
       "          [0.8270221 , 0.84822303, 0.8199755 ]],\n",
       " \n",
       "         [[0.09289216, 0.16746323, 0.27463236],\n",
       "          [0.0882353 , 0.15061274, 0.23976716],\n",
       "          [0.18811275, 0.23523284, 0.2851103 ],\n",
       "          ...,\n",
       "          [0.5686275 , 0.5803922 , 0.61286765],\n",
       "          [0.5627451 , 0.575     , 0.6004902 ],\n",
       "          [0.5711397 , 0.58572304, 0.5951593 ]],\n",
       " \n",
       "         ...,\n",
       " \n",
       "         [[0.5047181 , 0.60128677, 0.69050246],\n",
       "          [0.48125   , 0.57438725, 0.6685049 ],\n",
       "          [0.5170343 , 0.6033088 , 0.6974265 ],\n",
       "          ...,\n",
       "          [0.35447302, 0.2838848 , 0.18976715],\n",
       "          [0.31029412, 0.24754901, 0.15735294],\n",
       "          [0.30514705, 0.24779412, 0.15318628]],\n",
       " \n",
       "         [[0.48927698, 0.5951593 , 0.6775122 ],\n",
       "          [0.49479166, 0.58792895, 0.6816176 ],\n",
       "          [0.5368872 , 0.61531866, 0.7094363 ],\n",
       "          ...,\n",
       "          [0.3529412 , 0.27598038, 0.17745098],\n",
       "          [0.31501225, 0.25128677, 0.16060048],\n",
       "          [0.29295343, 0.24074756, 0.15214461]],\n",
       " \n",
       "         [[0.48033088, 0.577451  , 0.6637255 ],\n",
       "          [0.47726715, 0.55827206, 0.65110296],\n",
       "          [0.49430147, 0.56783086, 0.6619485 ],\n",
       "          ...,\n",
       "          [0.3639093 , 0.28639707, 0.18805148],\n",
       "          [0.2754902 , 0.20747548, 0.11893383],\n",
       "          [0.27567402, 0.21960784, 0.13155638]]],\n",
       " \n",
       " \n",
       "        [[[0.67248774, 0.62150735, 0.59797794],\n",
       "          [0.66764706, 0.6137255 , 0.59166664],\n",
       "          [0.6526348 , 0.5987132 , 0.5688113 ],\n",
       "          ...,\n",
       "          [0.29197302, 0.38560048, 0.47334558],\n",
       "          [0.4240196 , 0.4942402 , 0.5733456 ],\n",
       "          [0.4302696 , 0.4778799 , 0.5430147 ]],\n",
       " \n",
       "         [[0.67009807, 0.6122549 , 0.5921569 ],\n",
       "          [0.6775122 , 0.6195466 , 0.5995098 ],\n",
       "          [0.67696077, 0.6112745 , 0.5838235 ],\n",
       "          ...,\n",
       "          [0.35925245, 0.42542893, 0.5273897 ],\n",
       "          [0.4552696 , 0.51893383, 0.61789215],\n",
       "          [0.45661765, 0.515625  , 0.5989583 ]],\n",
       " \n",
       "         [[0.6826593 , 0.6395221 , 0.61599267],\n",
       "          [0.668076  , 0.62395835, 0.60042894],\n",
       "          [0.675     , 0.6240196 , 0.5926471 ],\n",
       "          ...,\n",
       "          [0.38805148, 0.45772058, 0.5536765 ],\n",
       "          [0.4603554 , 0.53878677, 0.63780636],\n",
       "          [0.44191176, 0.5154412 , 0.6046569 ]],\n",
       " \n",
       "         ...,\n",
       " \n",
       "         [[0.89215684, 0.9078431 , 0.9117647 ],\n",
       "          [0.88976717, 0.90545344, 0.9015319 ],\n",
       "          [0.8779412 , 0.89362746, 0.8897059 ],\n",
       "          ...,\n",
       "          [0.8661765 , 0.8897059 , 0.8504902 ],\n",
       "          [0.85876226, 0.8783701 , 0.8509191 ],\n",
       "          [0.8615809 , 0.88118875, 0.8539216 ]],\n",
       " \n",
       "         [[0.8684436 , 0.89099264, 0.87677693],\n",
       "          [0.8784314 , 0.89754903, 0.8833333 ],\n",
       "          [0.8926471 , 0.9122549 , 0.89656866],\n",
       "          ...,\n",
       "          [0.87052697, 0.88327205, 0.8558211 ],\n",
       "          [0.8601103 , 0.8784314 , 0.8553309 ],\n",
       "          [0.8478554 , 0.8723652 , 0.8439338 ]],\n",
       " \n",
       "         [[0.86960787, 0.9004902 , 0.8872549 ],\n",
       "          [0.86813724, 0.8979167 , 0.884375  ],\n",
       "          [0.8711397 , 0.89319855, 0.8775123 ],\n",
       "          ...,\n",
       "          [0.87800246, 0.88192403, 0.8534926 ],\n",
       "          [0.8389093 , 0.85968137, 0.8251838 ],\n",
       "          [0.8439951 , 0.8711397 , 0.8314951 ]]],\n",
       " \n",
       " \n",
       "        [[[0.83884805, 0.86629903, 0.83639705],\n",
       "          [0.7923407 , 0.8151961 , 0.8254902 ],\n",
       "          [0.39601716, 0.51550245, 0.5885417 ],\n",
       "          ...,\n",
       "          [0.87438726, 0.8822304 , 0.86556375],\n",
       "          [0.8720588 , 0.8745098 , 0.8593137 ],\n",
       "          [0.87806374, 0.8829657 , 0.86960787]],\n",
       " \n",
       "         [[0.7209559 , 0.76164216, 0.7753676 ],\n",
       "          [0.63419116, 0.7144608 , 0.76305145],\n",
       "          [0.1392157 , 0.2569853 , 0.37941176],\n",
       "          ...,\n",
       "          [0.8680147 , 0.87585783, 0.86311275],\n",
       "          [0.8778799 , 0.8784314 , 0.8691176 ],\n",
       "          [0.8681985 , 0.86881125, 0.86066175]],\n",
       " \n",
       "         [[0.4305147 , 0.48167893, 0.5509804 ],\n",
       "          [0.30998775, 0.41139707, 0.5022059 ],\n",
       "          [0.18529412, 0.25729167, 0.39742646],\n",
       "          ...,\n",
       "          [0.8612132 , 0.86905634, 0.8494485 ],\n",
       "          [0.8672794 , 0.87512255, 0.8555147 ],\n",
       "          [0.87579656, 0.8836397 , 0.86403185]],\n",
       " \n",
       "         ...,\n",
       " \n",
       "         [[0.59411764, 0.57892156, 0.59607846],\n",
       "          [0.5954044 , 0.62101716, 0.68419117],\n",
       "          [0.6161765 , 0.6737132 , 0.7564951 ],\n",
       "          ...,\n",
       "          [0.4223652 , 0.35569853, 0.24589461],\n",
       "          [0.4127451 , 0.33578432, 0.2372549 ],\n",
       "          [0.38296568, 0.3106005 , 0.22009803]],\n",
       " \n",
       "         [[0.60545343, 0.5941789 , 0.60398287],\n",
       "          [0.63468134, 0.6809436 , 0.7377451 ],\n",
       "          [0.60857844, 0.67224264, 0.75968134],\n",
       "          ...,\n",
       "          [0.41605392, 0.3572304 , 0.2435049 ],\n",
       "          [0.42058823, 0.36078432, 0.24068627],\n",
       "          [0.39362746, 0.3370711 , 0.22879902]],\n",
       " \n",
       "         [[0.58345586, 0.57126224, 0.5838235 ],\n",
       "          [0.6322304 , 0.67273283, 0.73584557],\n",
       "          [0.65067405, 0.7094976 , 0.794424  ],\n",
       "          ...,\n",
       "          [0.4077206 , 0.353125  , 0.23848039],\n",
       "          [0.4223652 , 0.3670956 , 0.23946078],\n",
       "          [0.37530637, 0.3175858 , 0.20036764]]]], dtype=float32),\n",
       " (array([1, 1, 1, 1, 1, 1, 1, 1], dtype=uint8),\n",
       "  array([[0.5786, 0.4038, 0.7856, 0.6494],\n",
       "         [0.1698, 0.2947, 0.4473, 0.645 ],\n",
       "         [0.2023, 0.2976, 0.648 , 0.848 ],\n",
       "         [0.2067, 0.2805, 0.5547, 0.727 ],\n",
       "         [0.3608, 0.3176, 0.6973, 0.708 ],\n",
       "         [0.2029, 0.2642, 0.539 , 0.655 ],\n",
       "         [0.3396, 0.192 , 0.797 , 0.782 ],\n",
       "         [0.2329, 0.2717, 0.575 , 0.7324]], dtype=float16)))"
      ]
     },
     "execution_count": 46,
     "metadata": {},
     "output_type": "execute_result"
    }
   ],
   "source": [
    "test_sample"
   ]
  },
  {
   "cell_type": "code",
   "execution_count": 47,
   "id": "4827b9ed-7e33-4f7b-b1e1-a6bb674846b4",
   "metadata": {
    "tags": []
   },
   "outputs": [
    {
     "name": "stdout",
     "output_type": "stream",
     "text": [
      "1/1 [==============================] - 0s 435ms/step\n"
     ]
    }
   ],
   "source": [
    "yhat= facetracker.predict(test_sample[0])"
   ]
  },
  {
   "cell_type": "code",
   "execution_count": 49,
   "id": "2627f88a-7922-4144-9847-33f3f7696926",
   "metadata": {
    "tags": []
   },
   "outputs": [
    {
     "data": {
      "text/plain": [
       "[array([[0.9999993 ],\n",
       "        [0.9999999 ],\n",
       "        [1.        ],\n",
       "        [0.9999998 ],\n",
       "        [0.9999998 ],\n",
       "        [0.9999999 ],\n",
       "        [1.        ],\n",
       "        [0.99999994]], dtype=float32),\n",
       " array([[0.5752253 , 0.40005177, 0.78437096, 0.68882084],\n",
       "        [0.14899361, 0.29673153, 0.41806045, 0.6598062 ],\n",
       "        [0.1947463 , 0.2458918 , 0.6371652 , 0.8615697 ],\n",
       "        [0.21148175, 0.2900904 , 0.5475103 , 0.71311456],\n",
       "        [0.36512008, 0.30882177, 0.7044811 , 0.72840565],\n",
       "        [0.1941349 , 0.25085038, 0.52593726, 0.6645717 ],\n",
       "        [0.3480694 , 0.17416446, 0.79476774, 0.8014584 ],\n",
       "        [0.22458383, 0.26741084, 0.56381226, 0.704079  ]], dtype=float32)]"
      ]
     },
     "execution_count": 49,
     "metadata": {},
     "output_type": "execute_result"
    }
   ],
   "source": [
    "yhat"
   ]
  },
  {
   "cell_type": "code",
   "execution_count": null,
   "id": "e06b2779-c8a2-4c67-9447-035efcc9e10e",
   "metadata": {
    "tags": []
   },
   "outputs": [],
   "source": [
    "fig, ax = plt.subplots(ncols=4, figsize=(20,20))\n",
    "for idx in range(4): \n",
    "    sample_image = test_sample[0][idx]\n",
    "    sample_coords = yhat[1][idx]\n",
    "    \n",
    "    if yhat[0][idx] > 0.9:\n",
    "        cv2.rectangle(sample_image, \n",
    "                      tuple(np.multiply(sample_coords[:2], [120,120]).astype(int)),\n",
    "                      tuple(np.multiply(sample_coords[2:], [120,120]).astype(int)), \n",
    "                            (255,0,0), 2)\n",
    "    \n",
    "    ax[idx].imshow(sample_image)"
   ]
  },
  {
   "cell_type": "markdown",
   "id": "185518fe-bd29-48ad-b6c6-53d52812a95f",
   "metadata": {},
   "source": [
    "### 11.2 Save the Model"
   ]
  },
  {
   "cell_type": "code",
   "execution_count": 1,
   "id": "2ec9f2e8-40eb-4d9d-ae4f-c69184de6e05",
   "metadata": {
    "tags": []
   },
   "outputs": [],
   "source": [
    "from tensorflow.keras.models import load_model"
   ]
  },
  {
   "cell_type": "code",
   "execution_count": null,
   "id": "d679cac5-d33e-4daa-b018-e48086efeb27",
   "metadata": {
    "tags": []
   },
   "outputs": [],
   "source": [
    "facetracker.save('facetracker.h5')"
   ]
  },
  {
   "cell_type": "code",
   "execution_count": null,
   "id": "dc49ee0d-7dbb-424b-8d65-76b140ae2727",
   "metadata": {
    "tags": []
   },
   "outputs": [],
   "source": [
    "facetracker = load_model('facetracker.h5')"
   ]
  },
  {
   "cell_type": "markdown",
   "id": "fc66b43d-31ff-453c-bb45-a5df0ddcb432",
   "metadata": {},
   "source": [
    "### 11.3 Real Time Detection"
   ]
  },
  {
   "cell_type": "code",
   "execution_count": null,
   "id": "ba244c79-2fb5-4111-a00c-4ec6e1098597",
   "metadata": {
    "tags": []
   },
   "outputs": [],
   "source": [
    "cap = cv2.VideoCapture(0)\n",
    "while cap.isOpened():\n",
    "    _ , frame = cap.read()\n",
    "    frame = frame[50:500, 50:500,:]\n",
    "    \n",
    "    rgb = cv2.cvtColor(frame, cv2.COLOR_BGR2RGB)\n",
    "    resized = tf.image.resize(rgb, (120,120))\n",
    "    \n",
    "    yhat = facetracker.predict(np.expand_dims(resized/255,0))\n",
    "    sample_coords = yhat[1][0]\n",
    "    \n",
    "    if yhat[0] > 0.5: \n",
    "        # Controls the main rectangle\n",
    "        cv2.rectangle(frame, \n",
    "                      tuple(np.multiply(sample_coords[:2], [450,450]).astype(int)),\n",
    "                      tuple(np.multiply(sample_coords[2:], [450,450]).astype(int)), \n",
    "                            (255,0,0), 2)\n",
    "        # Controls the label rectangle\n",
    "        cv2.rectangle(frame, \n",
    "                      tuple(np.add(np.multiply(sample_coords[:2], [450,450]).astype(int), \n",
    "                                    [0,-30])),\n",
    "                      tuple(np.add(np.multiply(sample_coords[:2], [450,450]).astype(int),\n",
    "                                    [80,0])), \n",
    "                            (255,0,0), -1)\n",
    "        \n",
    "        # Controls the text rendered\n",
    "        cv2.putText(frame, 'face', tuple(np.add(np.multiply(sample_coords[:2], [450,450]).astype(int),\n",
    "                                               [0,-5])),\n",
    "                    cv2.FONT_HERSHEY_SIMPLEX, 1, (255,255,255), 2, cv2.LINE_AA)\n",
    "    \n",
    "    cv2.imshow('EyeTrack', frame)\n",
    "    \n",
    "    if cv2.waitKey(1) & 0xFF == ord('q'):\n",
    "        break\n",
    "cap.release()\n",
    "cv2.destroyAllWindows()"
   ]
  },
  {
   "cell_type": "code",
   "execution_count": null,
   "id": "21cbd0f4-0e6b-4a95-be1d-1b520589a846",
   "metadata": {},
   "outputs": [],
   "source": []
  }
 ],
 "metadata": {
  "kernelspec": {
   "display_name": "faceDetection",
   "language": "python",
   "name": "facedetection"
  },
  "language_info": {
   "codemirror_mode": {
    "name": "ipython",
    "version": 3
   },
   "file_extension": ".py",
   "mimetype": "text/x-python",
   "name": "python",
   "nbconvert_exporter": "python",
   "pygments_lexer": "ipython3",
   "version": "3.11.3"
  }
 },
 "nbformat": 4,
 "nbformat_minor": 5
}
